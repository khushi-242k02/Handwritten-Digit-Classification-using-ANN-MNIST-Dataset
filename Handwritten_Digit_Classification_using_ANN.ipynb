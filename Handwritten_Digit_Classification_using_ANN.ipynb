{
 "cells": [
  {
   "cell_type": "code",
   "execution_count": 1,
   "id": "467a8bf5",
   "metadata": {},
   "outputs": [],
   "source": [
    "import tensorflow\n",
    "from tensorflow import keras\n",
    "from tensorflow.keras import Sequential\n",
    "from tensorflow.keras.layers import Dense,Flatten"
   ]
  },
  {
   "cell_type": "code",
   "execution_count": 2,
   "id": "8d22a193",
   "metadata": {},
   "outputs": [],
   "source": [
    "(X_train,y_train),(X_test,y_test) = keras.datasets.mnist.load_data()"
   ]
  },
  {
   "cell_type": "code",
   "execution_count": 3,
   "id": "bd4d7d8c",
   "metadata": {},
   "outputs": [
    {
     "data": {
      "text/plain": [
       "array([[[0, 0, 0, ..., 0, 0, 0],\n",
       "        [0, 0, 0, ..., 0, 0, 0],\n",
       "        [0, 0, 0, ..., 0, 0, 0],\n",
       "        ...,\n",
       "        [0, 0, 0, ..., 0, 0, 0],\n",
       "        [0, 0, 0, ..., 0, 0, 0],\n",
       "        [0, 0, 0, ..., 0, 0, 0]],\n",
       "\n",
       "       [[0, 0, 0, ..., 0, 0, 0],\n",
       "        [0, 0, 0, ..., 0, 0, 0],\n",
       "        [0, 0, 0, ..., 0, 0, 0],\n",
       "        ...,\n",
       "        [0, 0, 0, ..., 0, 0, 0],\n",
       "        [0, 0, 0, ..., 0, 0, 0],\n",
       "        [0, 0, 0, ..., 0, 0, 0]],\n",
       "\n",
       "       [[0, 0, 0, ..., 0, 0, 0],\n",
       "        [0, 0, 0, ..., 0, 0, 0],\n",
       "        [0, 0, 0, ..., 0, 0, 0],\n",
       "        ...,\n",
       "        [0, 0, 0, ..., 0, 0, 0],\n",
       "        [0, 0, 0, ..., 0, 0, 0],\n",
       "        [0, 0, 0, ..., 0, 0, 0]],\n",
       "\n",
       "       ...,\n",
       "\n",
       "       [[0, 0, 0, ..., 0, 0, 0],\n",
       "        [0, 0, 0, ..., 0, 0, 0],\n",
       "        [0, 0, 0, ..., 0, 0, 0],\n",
       "        ...,\n",
       "        [0, 0, 0, ..., 0, 0, 0],\n",
       "        [0, 0, 0, ..., 0, 0, 0],\n",
       "        [0, 0, 0, ..., 0, 0, 0]],\n",
       "\n",
       "       [[0, 0, 0, ..., 0, 0, 0],\n",
       "        [0, 0, 0, ..., 0, 0, 0],\n",
       "        [0, 0, 0, ..., 0, 0, 0],\n",
       "        ...,\n",
       "        [0, 0, 0, ..., 0, 0, 0],\n",
       "        [0, 0, 0, ..., 0, 0, 0],\n",
       "        [0, 0, 0, ..., 0, 0, 0]],\n",
       "\n",
       "       [[0, 0, 0, ..., 0, 0, 0],\n",
       "        [0, 0, 0, ..., 0, 0, 0],\n",
       "        [0, 0, 0, ..., 0, 0, 0],\n",
       "        ...,\n",
       "        [0, 0, 0, ..., 0, 0, 0],\n",
       "        [0, 0, 0, ..., 0, 0, 0],\n",
       "        [0, 0, 0, ..., 0, 0, 0]]], dtype=uint8)"
      ]
     },
     "execution_count": 3,
     "metadata": {},
     "output_type": "execute_result"
    }
   ],
   "source": [
    "X_train"
   ]
  },
  {
   "cell_type": "code",
   "execution_count": 4,
   "id": "e770f422",
   "metadata": {},
   "outputs": [
    {
     "data": {
      "text/plain": [
       "(60000, 28, 28)"
      ]
     },
     "execution_count": 4,
     "metadata": {},
     "output_type": "execute_result"
    }
   ],
   "source": [
    "X_train.shape"
   ]
  },
  {
   "cell_type": "code",
   "execution_count": 5,
   "id": "5a7387de",
   "metadata": {},
   "outputs": [
    {
     "data": {
      "text/plain": [
       "(28, 28)"
      ]
     },
     "execution_count": 5,
     "metadata": {},
     "output_type": "execute_result"
    }
   ],
   "source": [
    "X_train[0].shape   #It image"
   ]
  },
  {
   "cell_type": "code",
   "execution_count": 6,
   "id": "31ac73f9",
   "metadata": {},
   "outputs": [
    {
     "data": {
      "text/plain": [
       "array([[  0,   0,   0,   0,   0,   0,   0,   0,   0,   0,   0,   0,   0,\n",
       "          0,   0,   0,   0,   0,   0,   0,   0,   0,   0,   0,   0,   0,\n",
       "          0,   0],\n",
       "       [  0,   0,   0,   0,   0,   0,   0,   0,   0,   0,   0,   0,   0,\n",
       "          0,   0,   0,   0,   0,   0,   0,   0,   0,   0,   0,   0,   0,\n",
       "          0,   0],\n",
       "       [  0,   0,   0,   0,   0,   0,   0,   0,   0,   0,   0,   0,   0,\n",
       "          0,   0,   0,   0,   0,   0,   0,   0,   0,   0,   0,   0,   0,\n",
       "          0,   0],\n",
       "       [  0,   0,   0,   0,   0,   0,   0,   0,   0,   0,   0,   0,   0,\n",
       "          0,   0,   0,   0,   0,   0,   0,   0,   0,   0,   0,   0,   0,\n",
       "          0,   0],\n",
       "       [  0,   0,   0,   0,   0,   0,   0,   0,   0,   0,   0,   0,   0,\n",
       "          0,   0,   0,   0,   0,   0,   0,   0,   0,   0,   0,   0,   0,\n",
       "          0,   0],\n",
       "       [  0,   0,   0,   0,   0,   0,   0,   0,   0,   0,   0,   0,   3,\n",
       "         18,  18,  18, 126, 136, 175,  26, 166, 255, 247, 127,   0,   0,\n",
       "          0,   0],\n",
       "       [  0,   0,   0,   0,   0,   0,   0,   0,  30,  36,  94, 154, 170,\n",
       "        253, 253, 253, 253, 253, 225, 172, 253, 242, 195,  64,   0,   0,\n",
       "          0,   0],\n",
       "       [  0,   0,   0,   0,   0,   0,   0,  49, 238, 253, 253, 253, 253,\n",
       "        253, 253, 253, 253, 251,  93,  82,  82,  56,  39,   0,   0,   0,\n",
       "          0,   0],\n",
       "       [  0,   0,   0,   0,   0,   0,   0,  18, 219, 253, 253, 253, 253,\n",
       "        253, 198, 182, 247, 241,   0,   0,   0,   0,   0,   0,   0,   0,\n",
       "          0,   0],\n",
       "       [  0,   0,   0,   0,   0,   0,   0,   0,  80, 156, 107, 253, 253,\n",
       "        205,  11,   0,  43, 154,   0,   0,   0,   0,   0,   0,   0,   0,\n",
       "          0,   0],\n",
       "       [  0,   0,   0,   0,   0,   0,   0,   0,   0,  14,   1, 154, 253,\n",
       "         90,   0,   0,   0,   0,   0,   0,   0,   0,   0,   0,   0,   0,\n",
       "          0,   0],\n",
       "       [  0,   0,   0,   0,   0,   0,   0,   0,   0,   0,   0, 139, 253,\n",
       "        190,   2,   0,   0,   0,   0,   0,   0,   0,   0,   0,   0,   0,\n",
       "          0,   0],\n",
       "       [  0,   0,   0,   0,   0,   0,   0,   0,   0,   0,   0,  11, 190,\n",
       "        253,  70,   0,   0,   0,   0,   0,   0,   0,   0,   0,   0,   0,\n",
       "          0,   0],\n",
       "       [  0,   0,   0,   0,   0,   0,   0,   0,   0,   0,   0,   0,  35,\n",
       "        241, 225, 160, 108,   1,   0,   0,   0,   0,   0,   0,   0,   0,\n",
       "          0,   0],\n",
       "       [  0,   0,   0,   0,   0,   0,   0,   0,   0,   0,   0,   0,   0,\n",
       "         81, 240, 253, 253, 119,  25,   0,   0,   0,   0,   0,   0,   0,\n",
       "          0,   0],\n",
       "       [  0,   0,   0,   0,   0,   0,   0,   0,   0,   0,   0,   0,   0,\n",
       "          0,  45, 186, 253, 253, 150,  27,   0,   0,   0,   0,   0,   0,\n",
       "          0,   0],\n",
       "       [  0,   0,   0,   0,   0,   0,   0,   0,   0,   0,   0,   0,   0,\n",
       "          0,   0,  16,  93, 252, 253, 187,   0,   0,   0,   0,   0,   0,\n",
       "          0,   0],\n",
       "       [  0,   0,   0,   0,   0,   0,   0,   0,   0,   0,   0,   0,   0,\n",
       "          0,   0,   0,   0, 249, 253, 249,  64,   0,   0,   0,   0,   0,\n",
       "          0,   0],\n",
       "       [  0,   0,   0,   0,   0,   0,   0,   0,   0,   0,   0,   0,   0,\n",
       "          0,  46, 130, 183, 253, 253, 207,   2,   0,   0,   0,   0,   0,\n",
       "          0,   0],\n",
       "       [  0,   0,   0,   0,   0,   0,   0,   0,   0,   0,   0,   0,  39,\n",
       "        148, 229, 253, 253, 253, 250, 182,   0,   0,   0,   0,   0,   0,\n",
       "          0,   0],\n",
       "       [  0,   0,   0,   0,   0,   0,   0,   0,   0,   0,  24, 114, 221,\n",
       "        253, 253, 253, 253, 201,  78,   0,   0,   0,   0,   0,   0,   0,\n",
       "          0,   0],\n",
       "       [  0,   0,   0,   0,   0,   0,   0,   0,  23,  66, 213, 253, 253,\n",
       "        253, 253, 198,  81,   2,   0,   0,   0,   0,   0,   0,   0,   0,\n",
       "          0,   0],\n",
       "       [  0,   0,   0,   0,   0,   0,  18, 171, 219, 253, 253, 253, 253,\n",
       "        195,  80,   9,   0,   0,   0,   0,   0,   0,   0,   0,   0,   0,\n",
       "          0,   0],\n",
       "       [  0,   0,   0,   0,  55, 172, 226, 253, 253, 253, 253, 244, 133,\n",
       "         11,   0,   0,   0,   0,   0,   0,   0,   0,   0,   0,   0,   0,\n",
       "          0,   0],\n",
       "       [  0,   0,   0,   0, 136, 253, 253, 253, 212, 135, 132,  16,   0,\n",
       "          0,   0,   0,   0,   0,   0,   0,   0,   0,   0,   0,   0,   0,\n",
       "          0,   0],\n",
       "       [  0,   0,   0,   0,   0,   0,   0,   0,   0,   0,   0,   0,   0,\n",
       "          0,   0,   0,   0,   0,   0,   0,   0,   0,   0,   0,   0,   0,\n",
       "          0,   0],\n",
       "       [  0,   0,   0,   0,   0,   0,   0,   0,   0,   0,   0,   0,   0,\n",
       "          0,   0,   0,   0,   0,   0,   0,   0,   0,   0,   0,   0,   0,\n",
       "          0,   0],\n",
       "       [  0,   0,   0,   0,   0,   0,   0,   0,   0,   0,   0,   0,   0,\n",
       "          0,   0,   0,   0,   0,   0,   0,   0,   0,   0,   0,   0,   0,\n",
       "          0,   0]], dtype=uint8)"
      ]
     },
     "execution_count": 6,
     "metadata": {},
     "output_type": "execute_result"
    }
   ],
   "source": [
    "X_train[0]"
   ]
  },
  {
   "cell_type": "code",
   "execution_count": 7,
   "id": "54ced8ec",
   "metadata": {},
   "outputs": [
    {
     "data": {
      "text/plain": [
       "(10000, 28, 28)"
      ]
     },
     "execution_count": 7,
     "metadata": {},
     "output_type": "execute_result"
    }
   ],
   "source": [
    "X_test.shape"
   ]
  },
  {
   "cell_type": "code",
   "execution_count": 8,
   "id": "a8e5a0c9",
   "metadata": {},
   "outputs": [
    {
     "data": {
      "text/plain": [
       "array([5, 0, 4, ..., 5, 6, 8], dtype=uint8)"
      ]
     },
     "execution_count": 8,
     "metadata": {},
     "output_type": "execute_result"
    }
   ],
   "source": [
    "y_train"
   ]
  },
  {
   "cell_type": "code",
   "execution_count": 9,
   "id": "d147b28e",
   "metadata": {},
   "outputs": [
    {
     "data": {
      "text/plain": [
       "<matplotlib.image.AxesImage at 0x1735209b9d0>"
      ]
     },
     "execution_count": 9,
     "metadata": {},
     "output_type": "execute_result"
    },
    {
     "data": {
      "image/png": "[encoded data removed]",
      "text/plain": [
       "<Figure size 640x480 with 1 Axes>"
      ]
     },
     "metadata": {},
     "output_type": "display_data"
    }
   ],
   "source": [
    "import matplotlib.pyplot as plt\n",
    "plt.imshow(X_train[0])"
   ]
  },
  {
   "cell_type": "code",
   "execution_count": 10,
   "id": "a30a2cfc",
   "metadata": {},
   "outputs": [
    {
     "data": {
      "text/plain": [
       "<matplotlib.image.AxesImage at 0x1735395ea90>"
      ]
     },
     "execution_count": 10,
     "metadata": {},
     "output_type": "execute_result"
    },
    {
     "data": {
      "image/png": "[encoded data removed]",
      "text/plain": [
       "<Figure size 640x480 with 1 Axes>"
      ]
     },
     "metadata": {},
     "output_type": "display_data"
    }
   ],
   "source": [
    "import matplotlib.pyplot as plt\n",
    "plt.imshow(X_train[1])"
   ]
  },
  {
   "cell_type": "code",
   "execution_count": 11,
   "id": "1be186fc",
   "metadata": {},
   "outputs": [],
   "source": [
    "X_train = X_train/255\n",
    "X_test = X_test/255"
   ]
  },
  {
   "cell_type": "code",
   "execution_count": 12,
   "id": "2ee98585",
   "metadata": {},
   "outputs": [
    {
     "data": {
      "text/plain": [
       "array([[0.        , 0.        , 0.        , 0.        , 0.        ,\n",
       "        0.        , 0.        , 0.        , 0.        , 0.        ,\n",
       "        0.        , 0.        , 0.        , 0.        , 0.        ,\n",
       "        0.        , 0.        , 0.        , 0.        , 0.        ,\n",
       "        0.        , 0.        , 0.        , 0.        , 0.        ,\n",
       "        0.        , 0.        , 0.        ],\n",
       "       [0.        , 0.        , 0.        , 0.        , 0.        ,\n",
       "        0.        , 0.        , 0.        , 0.        , 0.        ,\n",
       "        0.        , 0.        , 0.        , 0.        , 0.        ,\n",
       "        0.        , 0.        , 0.        , 0.        , 0.        ,\n",
       "        0.        , 0.        , 0.        , 0.        , 0.        ,\n",
       "        0.        , 0.        , 0.        ],\n",
       "       [0.        , 0.        , 0.        , 0.        , 0.        ,\n",
       "        0.        , 0.        , 0.        , 0.        , 0.        ,\n",
       "        0.        , 0.        , 0.        , 0.        , 0.        ,\n",
       "        0.        , 0.        , 0.        , 0.        , 0.        ,\n",
       "        0.        , 0.        , 0.        , 0.        , 0.        ,\n",
       "        0.        , 0.        , 0.        ],\n",
       "       [0.        , 0.        , 0.        , 0.        , 0.        ,\n",
       "        0.        , 0.        , 0.        , 0.        , 0.        ,\n",
       "        0.        , 0.        , 0.        , 0.        , 0.        ,\n",
       "        0.        , 0.        , 0.        , 0.        , 0.        ,\n",
       "        0.        , 0.        , 0.        , 0.        , 0.        ,\n",
       "        0.        , 0.        , 0.        ],\n",
       "       [0.        , 0.        , 0.        , 0.        , 0.        ,\n",
       "        0.        , 0.        , 0.        , 0.        , 0.        ,\n",
       "        0.        , 0.        , 0.        , 0.        , 0.        ,\n",
       "        0.        , 0.        , 0.        , 0.        , 0.        ,\n",
       "        0.        , 0.        , 0.        , 0.        , 0.        ,\n",
       "        0.        , 0.        , 0.        ],\n",
       "       [0.        , 0.        , 0.        , 0.        , 0.        ,\n",
       "        0.        , 0.        , 0.        , 0.        , 0.        ,\n",
       "        0.        , 0.        , 0.01176471, 0.07058824, 0.07058824,\n",
       "        0.07058824, 0.49411765, 0.53333333, 0.68627451, 0.10196078,\n",
       "        0.65098039, 1.        , 0.96862745, 0.49803922, 0.        ,\n",
       "        0.        , 0.        , 0.        ],\n",
       "       [0.        , 0.        , 0.        , 0.        , 0.        ,\n",
       "        0.        , 0.        , 0.        , 0.11764706, 0.14117647,\n",
       "        0.36862745, 0.60392157, 0.66666667, 0.99215686, 0.99215686,\n",
       "        0.99215686, 0.99215686, 0.99215686, 0.88235294, 0.6745098 ,\n",
       "        0.99215686, 0.94901961, 0.76470588, 0.25098039, 0.        ,\n",
       "        0.        , 0.        , 0.        ],\n",
       "       [0.        , 0.        , 0.        , 0.        , 0.        ,\n",
       "        0.        , 0.        , 0.19215686, 0.93333333, 0.99215686,\n",
       "        0.99215686, 0.99215686, 0.99215686, 0.99215686, 0.99215686,\n",
       "        0.99215686, 0.99215686, 0.98431373, 0.36470588, 0.32156863,\n",
       "        0.32156863, 0.21960784, 0.15294118, 0.        , 0.        ,\n",
       "        0.        , 0.        , 0.        ],\n",
       "       [0.        , 0.        , 0.        , 0.        , 0.        ,\n",
       "        0.        , 0.        , 0.07058824, 0.85882353, 0.99215686,\n",
       "        0.99215686, 0.99215686, 0.99215686, 0.99215686, 0.77647059,\n",
       "        0.71372549, 0.96862745, 0.94509804, 0.        , 0.        ,\n",
       "        0.        , 0.        , 0.        , 0.        , 0.        ,\n",
       "        0.        , 0.        , 0.        ],\n",
       "       [0.        , 0.        , 0.        , 0.        , 0.        ,\n",
       "        0.        , 0.        , 0.        , 0.31372549, 0.61176471,\n",
       "        0.41960784, 0.99215686, 0.99215686, 0.80392157, 0.04313725,\n",
       "        0.        , 0.16862745, 0.60392157, 0.        , 0.        ,\n",
       "        0.        , 0.        , 0.        , 0.        , 0.        ,\n",
       "        0.        , 0.        , 0.        ],\n",
       "       [0.        , 0.        , 0.        , 0.        , 0.        ,\n",
       "        0.        , 0.        , 0.        , 0.        , 0.05490196,\n",
       "        0.00392157, 0.60392157, 0.99215686, 0.35294118, 0.        ,\n",
       "        0.        , 0.        , 0.        , 0.        , 0.        ,\n",
       "        0.        , 0.        , 0.        , 0.        , 0.        ,\n",
       "        0.        , 0.        , 0.        ],\n",
       "       [0.        , 0.        , 0.        , 0.        , 0.        ,\n",
       "        0.        , 0.        , 0.        , 0.        , 0.        ,\n",
       "        0.        , 0.54509804, 0.99215686, 0.74509804, 0.00784314,\n",
       "        0.        , 0.        , 0.        , 0.        , 0.        ,\n",
       "        0.        , 0.        , 0.        , 0.        , 0.        ,\n",
       "        0.        , 0.        , 0.        ],\n",
       "       [0.        , 0.        , 0.        , 0.        , 0.        ,\n",
       "        0.        , 0.        , 0.        , 0.        , 0.        ,\n",
       "        0.        , 0.04313725, 0.74509804, 0.99215686, 0.2745098 ,\n",
       "        0.        , 0.        , 0.        , 0.        , 0.        ,\n",
       "        0.        , 0.        , 0.        , 0.        , 0.        ,\n",
       "        0.        , 0.        , 0.        ],\n",
       "       [0.        , 0.        , 0.        , 0.        , 0.        ,\n",
       "        0.        , 0.        , 0.        , 0.        , 0.        ,\n",
       "        0.        , 0.        , 0.1372549 , 0.94509804, 0.88235294,\n",
       "        0.62745098, 0.42352941, 0.00392157, 0.        , 0.        ,\n",
       "        0.        , 0.        , 0.        , 0.        , 0.        ,\n",
       "        0.        , 0.        , 0.        ],\n",
       "       [0.        , 0.        , 0.        , 0.        , 0.        ,\n",
       "        0.        , 0.        , 0.        , 0.        , 0.        ,\n",
       "        0.        , 0.        , 0.        , 0.31764706, 0.94117647,\n",
       "        0.99215686, 0.99215686, 0.46666667, 0.09803922, 0.        ,\n",
       "        0.        , 0.        , 0.        , 0.        , 0.        ,\n",
       "        0.        , 0.        , 0.        ],\n",
       "       [0.        , 0.        , 0.        , 0.        , 0.        ,\n",
       "        0.        , 0.        , 0.        , 0.        , 0.        ,\n",
       "        0.        , 0.        , 0.        , 0.        , 0.17647059,\n",
       "        0.72941176, 0.99215686, 0.99215686, 0.58823529, 0.10588235,\n",
       "        0.        , 0.        , 0.        , 0.        , 0.        ,\n",
       "        0.        , 0.        , 0.        ],\n",
       "       [0.        , 0.        , 0.        , 0.        , 0.        ,\n",
       "        0.        , 0.        , 0.        , 0.        , 0.        ,\n",
       "        0.        , 0.        , 0.        , 0.        , 0.        ,\n",
       "        0.0627451 , 0.36470588, 0.98823529, 0.99215686, 0.73333333,\n",
       "        0.        , 0.        , 0.        , 0.        , 0.        ,\n",
       "        0.        , 0.        , 0.        ],\n",
       "       [0.        , 0.        , 0.        , 0.        , 0.        ,\n",
       "        0.        , 0.        , 0.        , 0.        , 0.        ,\n",
       "        0.        , 0.        , 0.        , 0.        , 0.        ,\n",
       "        0.        , 0.        , 0.97647059, 0.99215686, 0.97647059,\n",
       "        0.25098039, 0.        , 0.        , 0.        , 0.        ,\n",
       "        0.        , 0.        , 0.        ],\n",
       "       [0.        , 0.        , 0.        , 0.        , 0.        ,\n",
       "        0.        , 0.        , 0.        , 0.        , 0.        ,\n",
       "        0.        , 0.        , 0.        , 0.        , 0.18039216,\n",
       "        0.50980392, 0.71764706, 0.99215686, 0.99215686, 0.81176471,\n",
       "        0.00784314, 0.        , 0.        , 0.        , 0.        ,\n",
       "        0.        , 0.        , 0.        ],\n",
       "       [0.        , 0.        , 0.        , 0.        , 0.        ,\n",
       "        0.        , 0.        , 0.        , 0.        , 0.        ,\n",
       "        0.        , 0.        , 0.15294118, 0.58039216, 0.89803922,\n",
       "        0.99215686, 0.99215686, 0.99215686, 0.98039216, 0.71372549,\n",
       "        0.        , 0.        , 0.        , 0.        , 0.        ,\n",
       "        0.        , 0.        , 0.        ],\n",
       "       [0.        , 0.        , 0.        , 0.        , 0.        ,\n",
       "        0.        , 0.        , 0.        , 0.        , 0.        ,\n",
       "        0.09411765, 0.44705882, 0.86666667, 0.99215686, 0.99215686,\n",
       "        0.99215686, 0.99215686, 0.78823529, 0.30588235, 0.        ,\n",
       "        0.        , 0.        , 0.        , 0.        , 0.        ,\n",
       "        0.        , 0.        , 0.        ],\n",
       "       [0.        , 0.        , 0.        , 0.        , 0.        ,\n",
       "        0.        , 0.        , 0.        , 0.09019608, 0.25882353,\n",
       "        0.83529412, 0.99215686, 0.99215686, 0.99215686, 0.99215686,\n",
       "        0.77647059, 0.31764706, 0.00784314, 0.        , 0.        ,\n",
       "        0.        , 0.        , 0.        , 0.        , 0.        ,\n",
       "        0.        , 0.        , 0.        ],\n",
       "       [0.        , 0.        , 0.        , 0.        , 0.        ,\n",
       "        0.        , 0.07058824, 0.67058824, 0.85882353, 0.99215686,\n",
       "        0.99215686, 0.99215686, 0.99215686, 0.76470588, 0.31372549,\n",
       "        0.03529412, 0.        , 0.        , 0.        , 0.        ,\n",
       "        0.        , 0.        , 0.        , 0.        , 0.        ,\n",
       "        0.        , 0.        , 0.        ],\n",
       "       [0.        , 0.        , 0.        , 0.        , 0.21568627,\n",
       "        0.6745098 , 0.88627451, 0.99215686, 0.99215686, 0.99215686,\n",
       "        0.99215686, 0.95686275, 0.52156863, 0.04313725, 0.        ,\n",
       "        0.        , 0.        , 0.        , 0.        , 0.        ,\n",
       "        0.        , 0.        , 0.        , 0.        , 0.        ,\n",
       "        0.        , 0.        , 0.        ],\n",
       "       [0.        , 0.        , 0.        , 0.        , 0.53333333,\n",
       "        0.99215686, 0.99215686, 0.99215686, 0.83137255, 0.52941176,\n",
       "        0.51764706, 0.0627451 , 0.        , 0.        , 0.        ,\n",
       "        0.        , 0.        , 0.        , 0.        , 0.        ,\n",
       "        0.        , 0.        , 0.        , 0.        , 0.        ,\n",
       "        0.        , 0.        , 0.        ],\n",
       "       [0.        , 0.        , 0.        , 0.        , 0.        ,\n",
       "        0.        , 0.        , 0.        , 0.        , 0.        ,\n",
       "        0.        , 0.        , 0.        , 0.        , 0.        ,\n",
       "        0.        , 0.        , 0.        , 0.        , 0.        ,\n",
       "        0.        , 0.        , 0.        , 0.        , 0.        ,\n",
       "        0.        , 0.        , 0.        ],\n",
       "       [0.        , 0.        , 0.        , 0.        , 0.        ,\n",
       "        0.        , 0.        , 0.        , 0.        , 0.        ,\n",
       "        0.        , 0.        , 0.        , 0.        , 0.        ,\n",
       "        0.        , 0.        , 0.        , 0.        , 0.        ,\n",
       "        0.        , 0.        , 0.        , 0.        , 0.        ,\n",
       "        0.        , 0.        , 0.        ],\n",
       "       [0.        , 0.        , 0.        , 0.        , 0.        ,\n",
       "        0.        , 0.        , 0.        , 0.        , 0.        ,\n",
       "        0.        , 0.        , 0.        , 0.        , 0.        ,\n",
       "        0.        , 0.        , 0.        , 0.        , 0.        ,\n",
       "        0.        , 0.        , 0.        , 0.        , 0.        ,\n",
       "        0.        , 0.        , 0.        ]])"
      ]
     },
     "execution_count": 12,
     "metadata": {},
     "output_type": "execute_result"
    }
   ],
   "source": [
    "X_train[0]"
   ]
  },
  {
   "cell_type": "code",
   "execution_count": 13,
   "id": "91a28e47",
   "metadata": {},
   "outputs": [],
   "source": [
    "model = Sequential()\n",
    "\n",
    "model.add(Flatten(input_shape=(28,28)))\n",
    "model.add(Dense(128,activation='relu'))\n",
    "model.add(Dense(32,activation='relu'))\n",
    "model.add(Dense(10,activation='softmax'))"
   ]
  },
  {
   "cell_type": "code",
   "execution_count": 14,
   "id": "60e8e906",
   "metadata": {
    "scrolled": true
   },
   "outputs": [
    {
     "name": "stdout",
     "output_type": "stream",
     "text": [
      "Model: \"sequential\"\n",
      "_________________________________________________________________\n",
      " Layer (type)                Output Shape              Param #   \n",
      "=================================================================\n",
      " flatten (Flatten)           (None, 784)               0         \n",
      "                                                                 \n",
      " dense (Dense)               (None, 128)               100480    \n",
      "                                                                 \n",
      " dense_1 (Dense)             (None, 32)                4128      \n",
      "                                                                 \n",
      " dense_2 (Dense)             (None, 10)                330       \n",
      "                                                                 \n",
      "=================================================================\n",
      "Total params: 104,938\n",
      "Trainable params: 104,938\n",
      "Non-trainable params: 0\n",
      "_________________________________________________________________\n"
     ]
    }
   ],
   "source": [
    "model.summary()"
   ]
  },
  {
   "cell_type": "code",
   "execution_count": 15,
   "id": "f7001b10",
   "metadata": {},
   "outputs": [],
   "source": [
    "model.compile(loss='sparse_categorical_crossentropy',optimizer='Adam',metrics=['accuracy'])"
   ]
  },
  {
   "cell_type": "code",
   "execution_count": 16,
   "id": "9401b587",
   "metadata": {},
   "outputs": [
    {
     "name": "stdout",
     "output_type": "stream",
     "text": [
      "Epoch 1/100\n",
      "1500/1500 [==============================] - 13s 7ms/step - loss: 0.2846 - accuracy: 0.9168 - val_loss: 0.1529 - val_accuracy: 0.9578\n",
      "Epoch 2/100\n",
      "1500/1500 [==============================] - 10s 7ms/step - loss: 0.1203 - accuracy: 0.9641 - val_loss: 0.1142 - val_accuracy: 0.9673\n",
      "Epoch 3/100\n",
      "1500/1500 [==============================] - 11s 7ms/step - loss: 0.0844 - accuracy: 0.9745 - val_loss: 0.1046 - val_accuracy: 0.9684\n",
      "Epoch 4/100\n",
      "1500/1500 [==============================] - 10s 7ms/step - loss: 0.0633 - accuracy: 0.9806 - val_loss: 0.1081 - val_accuracy: 0.9688\n",
      "Epoch 5/100\n",
      "1500/1500 [==============================] - 10s 7ms/step - loss: 0.0510 - accuracy: 0.9836 - val_loss: 0.1009 - val_accuracy: 0.9717\n",
      "Epoch 6/100\n",
      "1500/1500 [==============================] - 10s 7ms/step - loss: 0.0396 - accuracy: 0.9875 - val_loss: 0.1069 - val_accuracy: 0.9718\n",
      "Epoch 7/100\n",
      "1500/1500 [==============================] - 11s 7ms/step - loss: 0.0321 - accuracy: 0.9894 - val_loss: 0.0978 - val_accuracy: 0.9745\n",
      "Epoch 8/100\n",
      "1500/1500 [==============================] - 10s 7ms/step - loss: 0.0268 - accuracy: 0.9915 - val_loss: 0.1092 - val_accuracy: 0.9723\n",
      "Epoch 9/100\n",
      "1500/1500 [==============================] - 10s 7ms/step - loss: 0.0221 - accuracy: 0.9929 - val_loss: 0.1089 - val_accuracy: 0.9745\n",
      "Epoch 10/100\n",
      "1500/1500 [==============================] - 10s 7ms/step - loss: 0.0203 - accuracy: 0.9927 - val_loss: 0.1165 - val_accuracy: 0.9725\n",
      "Epoch 11/100\n",
      "1500/1500 [==============================] - 10s 6ms/step - loss: 0.0166 - accuracy: 0.9947 - val_loss: 0.1197 - val_accuracy: 0.9740\n",
      "Epoch 12/100\n",
      "1500/1500 [==============================] - 10s 7ms/step - loss: 0.0168 - accuracy: 0.9946 - val_loss: 0.1099 - val_accuracy: 0.9767\n",
      "Epoch 13/100\n",
      "1500/1500 [==============================] - 10s 7ms/step - loss: 0.0129 - accuracy: 0.9957 - val_loss: 0.1163 - val_accuracy: 0.9747\n",
      "Epoch 14/100\n",
      "1500/1500 [==============================] - 10s 7ms/step - loss: 0.0130 - accuracy: 0.9954 - val_loss: 0.1293 - val_accuracy: 0.9745\n",
      "Epoch 15/100\n",
      "1500/1500 [==============================] - 10s 7ms/step - loss: 0.0144 - accuracy: 0.9952 - val_loss: 0.1373 - val_accuracy: 0.9728\n",
      "Epoch 16/100\n",
      "1500/1500 [==============================] - 10s 7ms/step - loss: 0.0093 - accuracy: 0.9967 - val_loss: 0.1475 - val_accuracy: 0.9729\n",
      "Epoch 17/100\n",
      "1500/1500 [==============================] - 10s 7ms/step - loss: 0.0106 - accuracy: 0.9966 - val_loss: 0.1461 - val_accuracy: 0.9749\n",
      "Epoch 18/100\n",
      "1500/1500 [==============================] - 10s 7ms/step - loss: 0.0138 - accuracy: 0.9958 - val_loss: 0.1419 - val_accuracy: 0.9742\n",
      "Epoch 19/100\n",
      "1500/1500 [==============================] - 10s 7ms/step - loss: 0.0060 - accuracy: 0.9983 - val_loss: 0.1388 - val_accuracy: 0.9762\n",
      "Epoch 20/100\n",
      "1500/1500 [==============================] - 10s 7ms/step - loss: 0.0133 - accuracy: 0.9957 - val_loss: 0.1586 - val_accuracy: 0.9743\n",
      "Epoch 21/100\n",
      "1500/1500 [==============================] - 10s 7ms/step - loss: 0.0096 - accuracy: 0.9969 - val_loss: 0.1609 - val_accuracy: 0.9737\n",
      "Epoch 22/100\n",
      "1500/1500 [==============================] - 10s 7ms/step - loss: 0.0073 - accuracy: 0.9975 - val_loss: 0.1504 - val_accuracy: 0.9779\n",
      "Epoch 23/100\n",
      "1500/1500 [==============================] - 10s 7ms/step - loss: 0.0082 - accuracy: 0.9974 - val_loss: 0.1854 - val_accuracy: 0.9718\n",
      "Epoch 24/100\n",
      "1500/1500 [==============================] - 10s 7ms/step - loss: 0.0082 - accuracy: 0.9973 - val_loss: 0.1556 - val_accuracy: 0.9762\n",
      "Epoch 25/100\n",
      "1500/1500 [==============================] - 10s 7ms/step - loss: 0.0082 - accuracy: 0.9971 - val_loss: 0.1615 - val_accuracy: 0.9752\n",
      "Epoch 26/100\n",
      "1500/1500 [==============================] - 10s 7ms/step - loss: 0.0090 - accuracy: 0.9973 - val_loss: 0.1724 - val_accuracy: 0.9757\n",
      "Epoch 27/100\n",
      "1500/1500 [==============================] - 10s 7ms/step - loss: 0.0047 - accuracy: 0.9986 - val_loss: 0.1563 - val_accuracy: 0.9768\n",
      "Epoch 28/100\n",
      "1500/1500 [==============================] - 10s 7ms/step - loss: 0.0083 - accuracy: 0.9972 - val_loss: 0.1958 - val_accuracy: 0.9737\n",
      "Epoch 29/100\n",
      "1500/1500 [==============================] - 10s 7ms/step - loss: 0.0099 - accuracy: 0.9969 - val_loss: 0.1878 - val_accuracy: 0.9747\n",
      "Epoch 30/100\n",
      "1500/1500 [==============================] - 10s 7ms/step - loss: 0.0059 - accuracy: 0.9982 - val_loss: 0.1948 - val_accuracy: 0.9746\n",
      "Epoch 31/100\n",
      "1500/1500 [==============================] - 10s 7ms/step - loss: 0.0074 - accuracy: 0.9976 - val_loss: 0.1829 - val_accuracy: 0.9765\n",
      "Epoch 32/100\n",
      "1500/1500 [==============================] - 10s 7ms/step - loss: 0.0060 - accuracy: 0.9982 - val_loss: 0.1878 - val_accuracy: 0.9752\n",
      "Epoch 33/100\n",
      "1500/1500 [==============================] - 10s 7ms/step - loss: 0.0078 - accuracy: 0.9974 - val_loss: 0.2076 - val_accuracy: 0.9739\n",
      "Epoch 34/100\n",
      "1500/1500 [==============================] - 10s 7ms/step - loss: 0.0047 - accuracy: 0.9985 - val_loss: 0.2015 - val_accuracy: 0.9747\n",
      "Epoch 35/100\n",
      "1500/1500 [==============================] - 10s 7ms/step - loss: 0.0075 - accuracy: 0.9976 - val_loss: 0.2075 - val_accuracy: 0.9741\n",
      "Epoch 36/100\n",
      "1500/1500 [==============================] - 10s 7ms/step - loss: 0.0057 - accuracy: 0.9984 - val_loss: 0.1807 - val_accuracy: 0.9772\n",
      "Epoch 37/100\n",
      "1500/1500 [==============================] - 10s 7ms/step - loss: 0.0080 - accuracy: 0.9975 - val_loss: 0.1881 - val_accuracy: 0.9771\n",
      "Epoch 38/100\n",
      "1500/1500 [==============================] - 10s 7ms/step - loss: 0.0090 - accuracy: 0.9974 - val_loss: 0.1986 - val_accuracy: 0.9753\n",
      "Epoch 39/100\n",
      "1500/1500 [==============================] - 10s 7ms/step - loss: 0.0055 - accuracy: 0.9985 - val_loss: 0.2118 - val_accuracy: 0.9738\n",
      "Epoch 40/100\n",
      "1500/1500 [==============================] - 10s 7ms/step - loss: 0.0058 - accuracy: 0.9981 - val_loss: 0.2055 - val_accuracy: 0.9766\n",
      "Epoch 41/100\n",
      "1500/1500 [==============================] - 10s 7ms/step - loss: 0.0076 - accuracy: 0.9978 - val_loss: 0.2012 - val_accuracy: 0.9753\n",
      "Epoch 42/100\n",
      "1500/1500 [==============================] - 11s 7ms/step - loss: 0.0030 - accuracy: 0.9991 - val_loss: 0.2109 - val_accuracy: 0.9762\n",
      "Epoch 43/100\n",
      "1500/1500 [==============================] - 11s 7ms/step - loss: 0.0089 - accuracy: 0.9973 - val_loss: 0.2054 - val_accuracy: 0.9748\n",
      "Epoch 44/100\n",
      "1500/1500 [==============================] - 11s 7ms/step - loss: 0.0040 - accuracy: 0.9985 - val_loss: 0.2145 - val_accuracy: 0.9743\n",
      "Epoch 45/100\n",
      "1500/1500 [==============================] - 11s 7ms/step - loss: 0.0050 - accuracy: 0.9986 - val_loss: 0.2195 - val_accuracy: 0.9761\n",
      "Epoch 46/100\n",
      "1500/1500 [==============================] - 11s 7ms/step - loss: 0.0083 - accuracy: 0.9978 - val_loss: 0.2093 - val_accuracy: 0.9733\n",
      "Epoch 47/100\n",
      "1500/1500 [==============================] - 11s 7ms/step - loss: 0.0023 - accuracy: 0.9994 - val_loss: 0.1856 - val_accuracy: 0.9775\n",
      "Epoch 48/100\n",
      "1500/1500 [==============================] - 11s 7ms/step - loss: 0.0079 - accuracy: 0.9980 - val_loss: 0.2208 - val_accuracy: 0.9740\n",
      "Epoch 49/100\n",
      "1500/1500 [==============================] - 11s 8ms/step - loss: 0.0050 - accuracy: 0.9984 - val_loss: 0.1930 - val_accuracy: 0.9772\n",
      "Epoch 50/100\n",
      "1500/1500 [==============================] - 1561s 1s/step - loss: 0.0061 - accuracy: 0.9984 - val_loss: 0.2268 - val_accuracy: 0.9750\n",
      "Epoch 51/100\n",
      "1500/1500 [==============================] - 13s 8ms/step - loss: 0.0063 - accuracy: 0.9980 - val_loss: 0.2009 - val_accuracy: 0.9783\n",
      "Epoch 52/100\n",
      "1500/1500 [==============================] - 11s 7ms/step - loss: 0.0030 - accuracy: 0.9991 - val_loss: 0.2388 - val_accuracy: 0.9760\n",
      "Epoch 53/100\n",
      "1500/1500 [==============================] - 11s 7ms/step - loss: 0.0050 - accuracy: 0.9986 - val_loss: 0.2234 - val_accuracy: 0.9764\n",
      "Epoch 54/100\n",
      "1500/1500 [==============================] - 10s 7ms/step - loss: 0.0079 - accuracy: 0.9980 - val_loss: 0.2134 - val_accuracy: 0.9759\n",
      "Epoch 55/100\n",
      "1500/1500 [==============================] - 10s 7ms/step - loss: 0.0019 - accuracy: 0.9994 - val_loss: 0.2328 - val_accuracy: 0.9758\n",
      "Epoch 56/100\n",
      "1500/1500 [==============================] - 10s 7ms/step - loss: 0.0069 - accuracy: 0.9980 - val_loss: 0.2233 - val_accuracy: 0.9766\n"
     ]
    },
    {
     "name": "stdout",
     "output_type": "stream",
     "text": [
      "Epoch 57/100\n",
      "1500/1500 [==============================] - 11s 7ms/step - loss: 0.0048 - accuracy: 0.9988 - val_loss: 0.2522 - val_accuracy: 0.9742\n",
      "Epoch 58/100\n",
      "1500/1500 [==============================] - 11s 7ms/step - loss: 0.0067 - accuracy: 0.9983 - val_loss: 0.2258 - val_accuracy: 0.9762\n",
      "Epoch 59/100\n",
      "1500/1500 [==============================] - 11s 7ms/step - loss: 0.0037 - accuracy: 0.9990 - val_loss: 0.2306 - val_accuracy: 0.9762\n",
      "Epoch 60/100\n",
      "1500/1500 [==============================] - 10s 7ms/step - loss: 0.0046 - accuracy: 0.9985 - val_loss: 0.2470 - val_accuracy: 0.9760\n",
      "Epoch 61/100\n",
      "1500/1500 [==============================] - 10s 7ms/step - loss: 0.0028 - accuracy: 0.9994 - val_loss: 0.2298 - val_accuracy: 0.9771\n",
      "Epoch 62/100\n",
      "1500/1500 [==============================] - 12s 8ms/step - loss: 0.0083 - accuracy: 0.9979 - val_loss: 0.2545 - val_accuracy: 0.9754\n",
      "Epoch 63/100\n",
      "1500/1500 [==============================] - 11s 7ms/step - loss: 0.0028 - accuracy: 0.9990 - val_loss: 0.2767 - val_accuracy: 0.9739\n",
      "Epoch 64/100\n",
      "1500/1500 [==============================] - 11s 7ms/step - loss: 0.0056 - accuracy: 0.9985 - val_loss: 0.2396 - val_accuracy: 0.9780\n",
      "Epoch 65/100\n",
      "1500/1500 [==============================] - 11s 7ms/step - loss: 0.0042 - accuracy: 0.9990 - val_loss: 0.2439 - val_accuracy: 0.9766\n",
      "Epoch 66/100\n",
      "1500/1500 [==============================] - 11s 7ms/step - loss: 0.0074 - accuracy: 0.9983 - val_loss: 0.2377 - val_accuracy: 0.9774\n",
      "Epoch 67/100\n",
      "1500/1500 [==============================] - 11s 7ms/step - loss: 0.0040 - accuracy: 0.9989 - val_loss: 0.2419 - val_accuracy: 0.9772\n",
      "Epoch 68/100\n",
      "1500/1500 [==============================] - 11s 7ms/step - loss: 0.0039 - accuracy: 0.9991 - val_loss: 0.2464 - val_accuracy: 0.9768\n",
      "Epoch 69/100\n",
      "1500/1500 [==============================] - 11s 7ms/step - loss: 0.0058 - accuracy: 0.9984 - val_loss: 0.2586 - val_accuracy: 0.9783\n",
      "Epoch 70/100\n",
      "1500/1500 [==============================] - 11s 7ms/step - loss: 0.0046 - accuracy: 0.9989 - val_loss: 0.2976 - val_accuracy: 0.9741\n",
      "Epoch 71/100\n",
      "1500/1500 [==============================] - 11s 7ms/step - loss: 0.0051 - accuracy: 0.9984 - val_loss: 0.2498 - val_accuracy: 0.9787\n",
      "Epoch 72/100\n",
      "1500/1500 [==============================] - 11s 7ms/step - loss: 0.0044 - accuracy: 0.9987 - val_loss: 0.2619 - val_accuracy: 0.9772\n",
      "Epoch 73/100\n",
      "1500/1500 [==============================] - 11s 7ms/step - loss: 0.0018 - accuracy: 0.9995 - val_loss: 0.2525 - val_accuracy: 0.9783\n",
      "Epoch 74/100\n",
      "1500/1500 [==============================] - 11s 7ms/step - loss: 0.0060 - accuracy: 0.9986 - val_loss: 0.2756 - val_accuracy: 0.9764\n",
      "Epoch 75/100\n",
      "1500/1500 [==============================] - 11s 7ms/step - loss: 0.0058 - accuracy: 0.9986 - val_loss: 0.3101 - val_accuracy: 0.9733\n",
      "Epoch 76/100\n",
      "1500/1500 [==============================] - 11s 7ms/step - loss: 0.0033 - accuracy: 0.9992 - val_loss: 0.2850 - val_accuracy: 0.9764\n",
      "Epoch 77/100\n",
      "1500/1500 [==============================] - 11s 7ms/step - loss: 0.0050 - accuracy: 0.9987 - val_loss: 0.2773 - val_accuracy: 0.9766\n",
      "Epoch 78/100\n",
      "1500/1500 [==============================] - 11s 7ms/step - loss: 0.0036 - accuracy: 0.9990 - val_loss: 0.3449 - val_accuracy: 0.9727\n",
      "Epoch 79/100\n",
      "1500/1500 [==============================] - 11s 7ms/step - loss: 0.0062 - accuracy: 0.9986 - val_loss: 0.2927 - val_accuracy: 0.9752\n",
      "Epoch 80/100\n",
      "1500/1500 [==============================] - 11s 7ms/step - loss: 0.0040 - accuracy: 0.9990 - val_loss: 0.2656 - val_accuracy: 0.9758\n",
      "Epoch 81/100\n",
      "1500/1500 [==============================] - 11s 7ms/step - loss: 0.0043 - accuracy: 0.9988 - val_loss: 0.2807 - val_accuracy: 0.9763\n",
      "Epoch 82/100\n",
      "1500/1500 [==============================] - 11s 7ms/step - loss: 0.0026 - accuracy: 0.9992 - val_loss: 0.3411 - val_accuracy: 0.9722\n",
      "Epoch 83/100\n",
      "1500/1500 [==============================] - 11s 7ms/step - loss: 0.0058 - accuracy: 0.9984 - val_loss: 0.2661 - val_accuracy: 0.9784\n",
      "Epoch 84/100\n",
      "1500/1500 [==============================] - 11s 7ms/step - loss: 0.0028 - accuracy: 0.9992 - val_loss: 0.2452 - val_accuracy: 0.9778\n",
      "Epoch 85/100\n",
      "1500/1500 [==============================] - 11s 8ms/step - loss: 0.0033 - accuracy: 0.9989 - val_loss: 0.2912 - val_accuracy: 0.9736\n",
      "Epoch 86/100\n",
      "1500/1500 [==============================] - 11s 7ms/step - loss: 0.0035 - accuracy: 0.9990 - val_loss: 0.2806 - val_accuracy: 0.9747\n",
      "Epoch 87/100\n",
      "1500/1500 [==============================] - 12s 8ms/step - loss: 0.0051 - accuracy: 0.9986 - val_loss: 0.2708 - val_accuracy: 0.9778\n",
      "Epoch 88/100\n",
      "1500/1500 [==============================] - 11s 8ms/step - loss: 0.0042 - accuracy: 0.9990 - val_loss: 0.2713 - val_accuracy: 0.9768\n",
      "Epoch 89/100\n",
      "1500/1500 [==============================] - 11s 7ms/step - loss: 0.0042 - accuracy: 0.9990 - val_loss: 0.2686 - val_accuracy: 0.9775\n",
      "Epoch 90/100\n",
      "1500/1500 [==============================] - 11s 8ms/step - loss: 0.0034 - accuracy: 0.9989 - val_loss: 0.2843 - val_accuracy: 0.9791\n",
      "Epoch 91/100\n",
      "1500/1500 [==============================] - 12s 8ms/step - loss: 0.0046 - accuracy: 0.9990 - val_loss: 0.3169 - val_accuracy: 0.9738\n",
      "Epoch 92/100\n",
      "1500/1500 [==============================] - 12s 8ms/step - loss: 0.0059 - accuracy: 0.9986 - val_loss: 0.2907 - val_accuracy: 0.9775\n",
      "Epoch 93/100\n",
      "1500/1500 [==============================] - 11s 8ms/step - loss: 0.0021 - accuracy: 0.9995 - val_loss: 0.2940 - val_accuracy: 0.9784\n",
      "Epoch 94/100\n",
      "1500/1500 [==============================] - 11s 8ms/step - loss: 0.0035 - accuracy: 0.9989 - val_loss: 0.3364 - val_accuracy: 0.9781\n",
      "Epoch 95/100\n",
      "1500/1500 [==============================] - 11s 8ms/step - loss: 0.0060 - accuracy: 0.9986 - val_loss: 0.3362 - val_accuracy: 0.9767\n",
      "Epoch 96/100\n",
      "1500/1500 [==============================] - 11s 8ms/step - loss: 0.0032 - accuracy: 0.9991 - val_loss: 0.3368 - val_accuracy: 0.9760\n",
      "Epoch 97/100\n",
      "1500/1500 [==============================] - 12s 8ms/step - loss: 0.0038 - accuracy: 0.9991 - val_loss: 0.3193 - val_accuracy: 0.9770\n",
      "Epoch 98/100\n",
      "1500/1500 [==============================] - 12s 8ms/step - loss: 0.0054 - accuracy: 0.9988 - val_loss: 0.3337 - val_accuracy: 0.9768\n",
      "Epoch 99/100\n",
      "1500/1500 [==============================] - 12s 8ms/step - loss: 0.0039 - accuracy: 0.9989 - val_loss: 0.3213 - val_accuracy: 0.9766\n",
      "Epoch 100/100\n",
      "1500/1500 [==============================] - 11s 8ms/step - loss: 0.0032 - accuracy: 0.9993 - val_loss: 0.3184 - val_accuracy: 0.9768\n"
     ]
    }
   ],
   "source": [
    "history = model.fit(X_train,y_train,epochs=100,validation_split=0.2)"
   ]
  },
  {
   "cell_type": "code",
   "execution_count": 17,
   "id": "bf82afc6",
   "metadata": {},
   "outputs": [
    {
     "name": "stdout",
     "output_type": "stream",
     "text": [
      "313/313 [==============================] - 2s 4ms/step\n"
     ]
    }
   ],
   "source": [
    "y_prob = model.predict(X_test)"
   ]
  },
  {
   "cell_type": "code",
   "execution_count": 18,
   "id": "0c5d238d",
   "metadata": {},
   "outputs": [],
   "source": [
    "y_pred = y_prob.argmax(axis=1)"
   ]
  },
  {
   "cell_type": "code",
   "execution_count": 19,
   "id": "602efe3b",
   "metadata": {},
   "outputs": [
    {
     "data": {
      "text/plain": [
       "0.977"
      ]
     },
     "execution_count": 19,
     "metadata": {},
     "output_type": "execute_result"
    }
   ],
   "source": [
    "from sklearn.metrics import accuracy_score\n",
    "accuracy_score(y_test,y_pred)"
   ]
  },
  {
   "cell_type": "code",
   "execution_count": 20,
   "id": "872cbd4e",
   "metadata": {},
   "outputs": [
    {
     "data": {
      "text/plain": [
       "[<matplotlib.lines.Line2D at 0x1737fcdc580>]"
      ]
     },
     "execution_count": 20,
     "metadata": {},
     "output_type": "execute_result"
    },
    {
     "data": {
      "image/png": "[encoded data removed]",
      "text/plain": [
       "<Figure size 640x480 with 1 Axes>"
      ]
     },
     "metadata": {},
     "output_type": "display_data"
    }
   ],
   "source": [
    "plt.plot(history.history['loss'])\n",
    "plt.plot(history.history['val_loss'])"
   ]
  },
  {
   "cell_type": "code",
   "execution_count": 21,
   "id": "dfa14049",
   "metadata": {},
   "outputs": [
    {
     "data": {
      "text/plain": [
       "[<matplotlib.lines.Line2D at 0x1737fd14250>]"
      ]
     },
     "execution_count": 21,
     "metadata": {},
     "output_type": "execute_result"
    },
    {
     "data": {
      "image/png": "[encoded data removed]",
      "text/plain": [
       "<Figure size 640x480 with 1 Axes>"
      ]
     },
     "metadata": {},
     "output_type": "display_data"
    }
   ],
   "source": [
    "plt.plot(history.history['accuracy'])\n",
    "plt.plot(history.history['val_accuracy'])"
   ]
  },
  {
   "cell_type": "code",
   "execution_count": 22,
   "id": "e080aedb",
   "metadata": {},
   "outputs": [
    {
     "data": {
      "text/plain": [
       "<matplotlib.image.AxesImage at 0x1737fd53190>"
      ]
     },
     "execution_count": 22,
     "metadata": {},
     "output_type": "execute_result"
    },
    {
     "data": {
      "image/png": "[encoded data removed]",
      "text/plain": [
       "<Figure size 640x480 with 1 Axes>"
      ]
     },
     "metadata": {},
     "output_type": "display_data"
    }
   ],
   "source": [
    "plt.imshow(X_test[0])"
   ]
  },
  {
   "cell_type": "code",
   "execution_count": 23,
   "id": "47154011",
   "metadata": {},
   "outputs": [
    {
     "name": "stdout",
     "output_type": "stream",
     "text": [
      "1/1 [==============================] - 0s 81ms/step\n"
     ]
    },
    {
     "data": {
      "text/plain": [
       "array([7], dtype=int64)"
      ]
     },
     "execution_count": 23,
     "metadata": {},
     "output_type": "execute_result"
    }
   ],
   "source": [
    "model.predict(X_test[0].reshape(1,28,28)).argmax(axis=1)"
   ]
  },
  {
   "cell_type": "code",
   "execution_count": 24,
   "id": "8e79092a",
   "metadata": {},
   "outputs": [
    {
     "data": {
      "text/plain": [
       "<matplotlib.image.AxesImage at 0x17350d4bf10>"
      ]
     },
     "execution_count": 24,
     "metadata": {},
     "output_type": "execute_result"
    },
    {
     "data": {
      "image/png": "[encoded data removed]",
      "text/plain": [
       "<Figure size 640x480 with 1 Axes>"
      ]
     },
     "metadata": {},
     "output_type": "display_data"
    }
   ],
   "source": [
    "plt.imshow(X_test[15])"
   ]
  },
  {
   "cell_type": "code",
   "execution_count": 25,
   "id": "9c164f98",
   "metadata": {},
   "outputs": [
    {
     "name": "stdout",
     "output_type": "stream",
     "text": [
      "1/1 [==============================] - 0s 63ms/step\n"
     ]
    },
    {
     "data": {
      "text/plain": [
       "array([5], dtype=int64)"
      ]
     },
     "execution_count": 25,
     "metadata": {},
     "output_type": "execute_result"
    }
   ],
   "source": [
    "model.predict(X_test[15].reshape(1,28,28)).argmax(axis=1)"
   ]
  }
 ],
 "metadata": {
  "kernelspec": {
   "display_name": "Python 3 (ipykernel)",
   "language": "python",
   "name": "python3"
  },
  "language_info": {
   "codemirror_mode": {
    "name": "ipython",
    "version": 3
   },
   "file_extension": ".py",
   "mimetype": "text/x-python",
   "name": "python",
   "nbconvert_exporter": "python",
   "pygments_lexer": "ipython3",
   "version": "3.9.18"
  }
 },
 "nbformat": 4,
 "nbformat_minor": 5
}
